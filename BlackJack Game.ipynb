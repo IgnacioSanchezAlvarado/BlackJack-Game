{
  "metadata": {
    "language_info": {
      "codemirror_mode": {
        "name": "python",
        "version": 3
      },
      "file_extension": ".py",
      "mimetype": "text/x-python",
      "name": "python",
      "nbconvert_exporter": "python",
      "pygments_lexer": "ipython3",
      "version": "3.8"
    },
    "kernelspec": {
      "name": "python",
      "display_name": "Python (Pyodide)",
      "language": "python"
    }
  },
  "nbformat_minor": 4,
  "nbformat": 4,
  "cells": [
    {
      "cell_type": "code",
      "source": "import random\n\nsuits = ('Hearts', 'Diamonds', 'Spades', 'Clubs')\nranks = ('Two', 'Three', 'Four', 'Five', 'Six', 'Seven', 'Eight', 'Nine', 'Ten', 'Jack', 'Queen', 'King', 'Ace')\nvalues = {'Two':2, 'Three':3, 'Four':4, 'Five':5, 'Six':6, 'Seven':7, 'Eight':8, 'Nine':9, 'Ten':10, 'Jack':10,\n         'Queen':10, 'King':10, 'Ace':11}\n\nplaying = True",
      "metadata": {
        "trusted": true
      },
      "execution_count": 1,
      "outputs": []
    },
    {
      "cell_type": "code",
      "source": "class Card:\n    \n    def __init__(self, suit, rank):\n        self.suit = suit\n        self.rank = rank\n    \n    def __str__(self):\n        return self.rank + ' of ' + self.suit",
      "metadata": {
        "trusted": true
      },
      "execution_count": 2,
      "outputs": []
    },
    {
      "cell_type": "code",
      "source": "NewCard = Card('Hearts','Two')",
      "metadata": {
        "trusted": true
      },
      "execution_count": 20,
      "outputs": []
    },
    {
      "cell_type": "code",
      "source": "class Deck:\n    \n    def __init__(self):\n        self.deck = []  # start with an empty list\n        for suit in suits:\n            for rank in ranks:\n                self.deck.append(Card(suit,rank))\n    \n    def __str__(self):\n        return f'There is a total of {len(self.deck)} cards in this deck'\n\n    def shuffle(self):\n        random.shuffle(self.deck)\n        \n    def deal(self):\n        return self.deck.pop()",
      "metadata": {
        "trusted": true
      },
      "execution_count": 55,
      "outputs": []
    },
    {
      "cell_type": "code",
      "source": "NewDeck = Deck()",
      "metadata": {
        "trusted": true
      },
      "execution_count": 75,
      "outputs": []
    },
    {
      "cell_type": "code",
      "source": "NewDeck.deck[0].rank",
      "metadata": {
        "trusted": true
      },
      "execution_count": 62,
      "outputs": [
        {
          "execution_count": 62,
          "output_type": "execute_result",
          "data": {
            "text/plain": "'Two'"
          },
          "metadata": {}
        }
      ]
    },
    {
      "cell_type": "code",
      "source": "print(NewDeck)",
      "metadata": {
        "trusted": true
      },
      "execution_count": 87,
      "outputs": [
        {
          "name": "stdout",
          "text": "There is a total of 50 cards in this deck\n",
          "output_type": "stream"
        }
      ]
    },
    {
      "cell_type": "code",
      "source": "class Hand:\n    def __init__(self):\n        self.cards = []  # start with an empty list as we did in the Deck class\n        self.value = 0   # start with zero value\n        self.aces = 0    # add an attribute to keep track of aces\n    \n    def add_card(self,card):\n        self.cards.append(card)\n        self.value = 0\n        for i in range(0,len(self.cards)):\n            self.value = self.value + values[self.cards[i].rank]         \n    \n    def adjust_for_ace(self):\n        self.aces = 0\n        for i in range(0,len(self.cards)):\n            if self.cards[i].rank == 'Ace':\n                self.aces = self.aces + 1\n            else:\n                pass\n            \n            ",
      "metadata": {
        "trusted": true
      },
      "execution_count": 150,
      "outputs": []
    },
    {
      "cell_type": "code",
      "source": "NewHand = Hand()",
      "metadata": {
        "trusted": true
      },
      "execution_count": 156,
      "outputs": []
    },
    {
      "cell_type": "code",
      "source": "NewHand.add_card(NewDeck.deal())\nNewHand.adjust_for_ace()\nprint(NewHand.value)\nprint(NewHand.aces)",
      "metadata": {
        "trusted": true
      },
      "execution_count": 186,
      "outputs": [
        {
          "name": "stdout",
          "text": "133\n2\n",
          "output_type": "stream"
        }
      ]
    },
    {
      "cell_type": "code",
      "source": "print(NewHand.cards[-1].rank)",
      "metadata": {
        "trusted": true
      },
      "execution_count": 187,
      "outputs": [
        {
          "name": "stdout",
          "text": "Ace\n",
          "output_type": "stream"
        }
      ]
    },
    {
      "cell_type": "code",
      "source": "class Chips:\n    \n    def __init__(self):\n        self.total = 100  # This can be set to a default value or supplied by a user input\n        self.bet = 0\n        \n    def win_bet(self):\n        self.total = self.total + self.bet\n    \n    def lose_bet(self):\n        self.total = self.total - self.bet",
      "metadata": {
        "trusted": true
      },
      "execution_count": 195,
      "outputs": []
    },
    {
      "cell_type": "code",
      "source": "PlayerChips = Chips()",
      "metadata": {
        "trusted": true
      },
      "execution_count": 196,
      "outputs": []
    },
    {
      "cell_type": "code",
      "source": "def take_bet():\n    \n    try:\n        bet_on = True\n        while bet_on:\n            bet = input(f'What is your bet? (Maximun amount: {PlayerChips.total})')\n            if bet > PlayerChips.total:\n                print('Please dont exceed the Maximun amount')\n            else:\n                PlayerChips.bet = PlayerChips.bet + bet\n                bet_on = False\n    except:\n        print('Please enter a valid amount')\n            ",
      "metadata": {
        "trusted": true
      },
      "execution_count": 197,
      "outputs": []
    },
    {
      "cell_type": "code",
      "source": "take_bet()",
      "metadata": {
        "trusted": true
      },
      "execution_count": 198,
      "outputs": [
        {
          "name": "stdout",
          "text": "Please enter a valid amount\n",
          "output_type": "stream"
        },
        {
          "name": "stderr",
          "text": "Future exception was never retrieved\nfuture: <Future finished exception=JsException(TypeError: Cannot read properties of null (reading 'sendInputRequest'))>\n",
          "output_type": "stream"
        }
      ]
    },
    {
      "cell_type": "code",
      "source": " bet = input(f'What is your bet? (Maximun amount: {PlayerChips.total})')",
      "metadata": {
        "trusted": true
      },
      "execution_count": 199,
      "outputs": []
    },
    {
      "cell_type": "code",
      "source": "",
      "metadata": {},
      "execution_count": null,
      "outputs": []
    }
  ]
}